{
 "cells": [
  {
   "cell_type": "code",
   "execution_count": 28,
   "metadata": {},
   "outputs": [
    {
     "name": "stdout",
     "output_type": "stream",
     "text": [
      "====================\n",
      "Req number: 9\n",
      "Email: 9A89X7GPC@gmail.com\n",
      " Pass: MLRAE16ZA\n"
     ]
    }
   ],
   "source": [
    "import requests\n",
    "\n",
    "import string\n",
    "import random\n",
    "\n",
    "def id_generator(size=6, chars=string.ascii_uppercase + string.digits):\n",
    "    #\n",
    "    return ''.join(random.choice(chars) for _ in range(size))\n",
    "\n",
    "\n",
    "\n",
    "\n",
    "for i in range(10, 3):\n",
    "    print(\"Req number: {}\".format(i))\n",
    "    # send requests\n",
    "    randSize = random.randint(8, 16)    \n",
    "    name = id_generator(randSize)\n",
    "    passs = id_generator(randSize)\n",
    "    \n",
    "files = {\n",
    "    'text': (None, passs),\n",
    "    'email': (None, '{}@gmail.com'.format(name)),\n",
    "}\n",
    "\n",
    "print('====================')\n",
    "print(\"Req number: {}\".format(i))\n",
    "print(\"Email: {}\\n Pass: {}\".format('{}@gmail.com'.format(name),passs))\n",
    "response = requests.post('https://event.webinarjam.com/login/m0z9gaqf8srsgs5', files=files)\n",
    "#print(response.text)"
   ]
  },
  {
   "cell_type": "code",
   "execution_count": null,
   "metadata": {},
   "outputs": [],
   "source": []
  }
 ],
 "metadata": {
  "kernelspec": {
   "display_name": "Python 3.9.12 ('tf')",
   "language": "python",
   "name": "python3"
  },
  "language_info": {
   "codemirror_mode": {
    "name": "ipython",
    "version": 3
   },
   "file_extension": ".py",
   "mimetype": "text/x-python",
   "name": "python",
   "nbconvert_exporter": "python",
   "pygments_lexer": "ipython3",
   "version": "3.9.12"
  },
  "orig_nbformat": 4,
  "vscode": {
   "interpreter": {
    "hash": "93a850cdd8e1ced0015abffd1c74857b7727d52a3b5bd3cee8894c4cf53924e5"
   }
  }
 },
 "nbformat": 4,
 "nbformat_minor": 2
}
