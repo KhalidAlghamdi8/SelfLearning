{
 "cells": [
  {
   "cell_type": "code",
   "execution_count": 1,
   "metadata": {},
   "outputs": [],
   "source": [
    "import pandas as pd \n",
    "import time\n",
    "from selenium import webdriver\n",
    "from webdriver_manager.chrome import ChromeDriverManager"
   ]
  },
  {
   "cell_type": "code",
   "execution_count": 2,
   "metadata": {},
   "outputs": [
    {
     "name": "stderr",
     "output_type": "stream",
     "text": [
      "[WDM] - Downloading: 100%|██████████| 6.21M/6.21M [00:01<00:00, 4.41MB/s]\n",
      "C:\\Users\\kalgh\\AppData\\Local\\Temp\\ipykernel_17344\\1503906442.py:1: DeprecationWarning: executable_path has been deprecated, please pass in a Service object\n",
      "  driver = webdriver.Chrome(ChromeDriverManager().install())\n"
     ]
    }
   ],
   "source": [
    "driver = webdriver.Chrome(ChromeDriverManager().install())"
   ]
  },
  {
   "cell_type": "code",
   "execution_count": 3,
   "metadata": {},
   "outputs": [],
   "source": [
    "# Go to the characters in books page\n",
    "page_url = \"https://www.goodreads.com/quotes?ref=nav_comm_quotes\"\n",
    "driver.get(page_url)\n"
   ]
  },
  {
   "cell_type": "code",
   "execution_count": 4,
   "metadata": {},
   "outputs": [
    {
     "data": {
      "text/plain": [
       "[<selenium.webdriver.remote.webelement.WebElement (session=\"58070985313aacc8b67143f8ba8c03b7\", element=\"9578e722-bd2d-4a28-8899-05fc48cf0058\")>,\n",
       " <selenium.webdriver.remote.webelement.WebElement (session=\"58070985313aacc8b67143f8ba8c03b7\", element=\"e58abb76-552c-45b5-9d9a-9fd3dea3162e\")>,\n",
       " <selenium.webdriver.remote.webelement.WebElement (session=\"58070985313aacc8b67143f8ba8c03b7\", element=\"52482eef-812f-4c50-867a-306077c6031d\")>,\n",
       " <selenium.webdriver.remote.webelement.WebElement (session=\"58070985313aacc8b67143f8ba8c03b7\", element=\"0e29e6aa-b772-40ae-a589-8572382d320a\")>,\n",
       " <selenium.webdriver.remote.webelement.WebElement (session=\"58070985313aacc8b67143f8ba8c03b7\", element=\"524cd7d5-bfb7-4979-919b-139d1e15af6b\")>,\n",
       " <selenium.webdriver.remote.webelement.WebElement (session=\"58070985313aacc8b67143f8ba8c03b7\", element=\"ed258291-e8fb-412c-82ff-ffc12f2af3e1\")>,\n",
       " <selenium.webdriver.remote.webelement.WebElement (session=\"58070985313aacc8b67143f8ba8c03b7\", element=\"89248318-e7c5-48c0-95ef-d045ac509589\")>,\n",
       " <selenium.webdriver.remote.webelement.WebElement (session=\"58070985313aacc8b67143f8ba8c03b7\", element=\"15c2b5ed-4e3a-43f1-a1b6-9c7497f5d93c\")>,\n",
       " <selenium.webdriver.remote.webelement.WebElement (session=\"58070985313aacc8b67143f8ba8c03b7\", element=\"80ab4aee-9dd6-4955-b547-dce26cb50e75\")>,\n",
       " <selenium.webdriver.remote.webelement.WebElement (session=\"58070985313aacc8b67143f8ba8c03b7\", element=\"2c260406-16eb-49dd-bd05-481228e58f9c\")>,\n",
       " <selenium.webdriver.remote.webelement.WebElement (session=\"58070985313aacc8b67143f8ba8c03b7\", element=\"04765759-eb93-49fb-a004-2e7a984a2130\")>,\n",
       " <selenium.webdriver.remote.webelement.WebElement (session=\"58070985313aacc8b67143f8ba8c03b7\", element=\"44d97647-7716-4d44-825e-7010f5d5488d\")>,\n",
       " <selenium.webdriver.remote.webelement.WebElement (session=\"58070985313aacc8b67143f8ba8c03b7\", element=\"be8bb4e3-e843-4edd-826c-67c7c083dbd4\")>,\n",
       " <selenium.webdriver.remote.webelement.WebElement (session=\"58070985313aacc8b67143f8ba8c03b7\", element=\"62290563-15d3-41c5-a2d2-767fa7125170\")>,\n",
       " <selenium.webdriver.remote.webelement.WebElement (session=\"58070985313aacc8b67143f8ba8c03b7\", element=\"8069808e-0760-452d-8c55-3d0bcfffe1fb\")>,\n",
       " <selenium.webdriver.remote.webelement.WebElement (session=\"58070985313aacc8b67143f8ba8c03b7\", element=\"1b942b5b-ad50-4849-bc05-7d671a60408c\")>,\n",
       " <selenium.webdriver.remote.webelement.WebElement (session=\"58070985313aacc8b67143f8ba8c03b7\", element=\"ac83481a-41dc-4307-b5b6-3777ce654976\")>,\n",
       " <selenium.webdriver.remote.webelement.WebElement (session=\"58070985313aacc8b67143f8ba8c03b7\", element=\"4e658274-9027-4485-ab74-00c3bb4a5c80\")>,\n",
       " <selenium.webdriver.remote.webelement.WebElement (session=\"58070985313aacc8b67143f8ba8c03b7\", element=\"a8c3f18e-1dbc-4edf-9dba-467ef8b67807\")>,\n",
       " <selenium.webdriver.remote.webelement.WebElement (session=\"58070985313aacc8b67143f8ba8c03b7\", element=\"c3b7fc1b-1cfe-4445-978c-19013a653629\")>,\n",
       " <selenium.webdriver.remote.webelement.WebElement (session=\"58070985313aacc8b67143f8ba8c03b7\", element=\"c6dfcaad-40e9-41d9-8e97-3894e36000f6\")>,\n",
       " <selenium.webdriver.remote.webelement.WebElement (session=\"58070985313aacc8b67143f8ba8c03b7\", element=\"f5f2d6dc-35d1-4b23-ab24-f317b9c2599b\")>,\n",
       " <selenium.webdriver.remote.webelement.WebElement (session=\"58070985313aacc8b67143f8ba8c03b7\", element=\"d4679704-75f4-47f7-8d27-02c0696fc761\")>,\n",
       " <selenium.webdriver.remote.webelement.WebElement (session=\"58070985313aacc8b67143f8ba8c03b7\", element=\"b2b5a737-00aa-476b-a5ef-ebd670eba6e4\")>,\n",
       " <selenium.webdriver.remote.webelement.WebElement (session=\"58070985313aacc8b67143f8ba8c03b7\", element=\"1aeec7af-10a9-4ce9-9c82-50b4c7fb58db\")>,\n",
       " <selenium.webdriver.remote.webelement.WebElement (session=\"58070985313aacc8b67143f8ba8c03b7\", element=\"8268d9be-ccfc-4d7a-9419-485418ff3971\")>,\n",
       " <selenium.webdriver.remote.webelement.WebElement (session=\"58070985313aacc8b67143f8ba8c03b7\", element=\"14c6db09-b896-4aa9-86d8-26f9307dff38\")>,\n",
       " <selenium.webdriver.remote.webelement.WebElement (session=\"58070985313aacc8b67143f8ba8c03b7\", element=\"7ee532e9-58b6-4434-82e8-f9a4b5722a03\")>,\n",
       " <selenium.webdriver.remote.webelement.WebElement (session=\"58070985313aacc8b67143f8ba8c03b7\", element=\"2bf40a54-6795-4507-8e65-65cfe05d8660\")>,\n",
       " <selenium.webdriver.remote.webelement.WebElement (session=\"58070985313aacc8b67143f8ba8c03b7\", element=\"a3c9ab84-7ae6-4255-86cb-ba9b08d99e05\")>]"
      ]
     },
     "execution_count": 4,
     "metadata": {},
     "output_type": "execute_result"
    }
   ],
   "source": [
    "from selenium.webdriver.common.by import By"
   ]
  },
  {
   "cell_type": "code",
   "execution_count": 121,
   "metadata": {},
   "outputs": [],
   "source": [
    "import pandas as pd\n",
    "import time\n",
    "from selenium import webdriver\n",
    "from webdriver_manager.chrome import ChromeDriverManager\n",
    "from selenium.webdriver.common.by import By\n",
    "from selenium.webdriver.chrome.service import Service\n",
    "from selenium.webdriver.chrome.options import Options\n",
    "import matplotlib.pyplot as plt\n",
    "import os\n",
    "import logging\n",
    "\n",
    "\n",
    "## Setup chrome options\n",
    "chrome_options = Options()\n",
    "chrome_options.add_argument(\"--headless\") # Ensure GUI is off\n",
    "chrome_options.add_argument(\"--no-sandbox\")\n",
    "\n",
    "\n",
    "# Silent download of drivers\n",
    "logging.getLogger('WDM').setLevel(logging.NOTSET)\n",
    "os.environ['WDM_LOG'] = 'False'\n",
    "\n",
    "\n",
    "# Create service\n",
    "webdriver_service = Service(ChromeDriverManager().install())\n",
    "\n",
    "# Create driver\n",
    "driver = webdriver.Chrome(service = webdriver_service, options = chrome_options)\n"
   ]
  },
  {
   "cell_type": "code",
   "execution_count": 135,
   "metadata": {},
   "outputs": [],
   "source": [
    "url = \"https://www.goodreads.com/quotes?ref=nav_comm_quotes\"\n",
    "ls = []\n",
    "\n",
    "\n",
    "for i in range(1, 150):\n",
    "    driver.get(url + str(i))\n",
    "    driver.implicitly_wait(3)\n",
    "\n",
    "    # Find quotes\n",
    "    quotes = driver.find_elements(By.CLASS_NAME,\"quoteText\")\n",
    "\n",
    "    for category in quotes:\n",
    "        authorOrTitle = category.find_element(By.CLASS_NAME,\"authorOrTitle\").get_attribute('innerHTML')\n",
    "        book_name = category.text\n",
    "        ls.append({'Quotes': book_name, \"Author\": authorOrTitle})\n",
    "\n",
    "pd.DataFrame(ls).to_csv(\"quotes.csv\")"
   ]
  },
  {
   "cell_type": "code",
   "execution_count": 136,
   "metadata": {},
   "outputs": [
    {
     "ename": "AttributeError",
     "evalue": "'list' object has no attribute 'drop_duplicates'",
     "output_type": "error",
     "traceback": [
      "\u001b[1;31m---------------------------------------------------------------------------\u001b[0m",
      "\u001b[1;31mAttributeError\u001b[0m                            Traceback (most recent call last)",
      "\u001b[1;32mc:\\Users\\kalgh\\Desktop\\self-learing\\Web\\web scraping1.ipynb Cell 7\u001b[0m in \u001b[0;36m<cell line: 1>\u001b[1;34m()\u001b[0m\n\u001b[1;32m----> <a href='vscode-notebook-cell:/c%3A/Users/kalgh/Desktop/self-learing/Web/web%20scraping1.ipynb#X22sZmlsZQ%3D%3D?line=0'>1</a>\u001b[0m ls\u001b[39m.\u001b[39;49mdrop_duplicates(subset \u001b[39m=\u001b[39m [\u001b[39m\"\u001b[39m\u001b[39mQuotes\u001b[39m\u001b[39m\"\u001b[39m, \u001b[39m\"\u001b[39m\u001b[39mAuthor\u001b[39m\u001b[39m\"\u001b[39m] , keep \u001b[39m=\u001b[39m \u001b[39mFalse\u001b[39;00m, inplace \u001b[39m=\u001b[39m \u001b[39mTrue\u001b[39;00m)\n\u001b[0;32m      <a href='vscode-notebook-cell:/c%3A/Users/kalgh/Desktop/self-learing/Web/web%20scraping1.ipynb#X22sZmlsZQ%3D%3D?line=1'>2</a>\u001b[0m ls\n",
      "\u001b[1;31mAttributeError\u001b[0m: 'list' object has no attribute 'drop_duplicates'"
     ]
    }
   ],
   "source": [
    "ls.drop_duplicates(subset = [\"Quotes\", \"Author\"] , keep = False, inplace = True)\n",
    "ls"
   ]
  },
  {
   "cell_type": "code",
   "execution_count": 143,
   "metadata": {},
   "outputs": [
    {
     "data": {
      "text/plain": [
       "(4440, 2)"
      ]
     },
     "execution_count": 143,
     "metadata": {},
     "output_type": "execute_result"
    }
   ],
   "source": [
    "data = pd.DataFrame(ls)\n",
    "data.shape"
   ]
  },
  {
   "cell_type": "code",
   "execution_count": 144,
   "metadata": {},
   "outputs": [],
   "source": [
    "data.to_csv(\"quotes.csv\")"
   ]
  },
  {
   "cell_type": "code",
   "execution_count": 146,
   "metadata": {},
   "outputs": [
    {
     "data": {
      "text/plain": [
       "(30, 2)"
      ]
     },
     "execution_count": 146,
     "metadata": {},
     "output_type": "execute_result"
    }
   ],
   "source": [
    "data.drop_duplicates().shape"
   ]
  },
  {
   "cell_type": "code",
   "execution_count": null,
   "metadata": {},
   "outputs": [],
   "source": []
  }
 ],
 "metadata": {
  "kernelspec": {
   "display_name": "Python 3.9.12 ('tf')",
   "language": "python",
   "name": "python3"
  },
  "language_info": {
   "codemirror_mode": {
    "name": "ipython",
    "version": 3
   },
   "file_extension": ".py",
   "mimetype": "text/x-python",
   "name": "python",
   "nbconvert_exporter": "python",
   "pygments_lexer": "ipython3",
   "version": "3.9.12"
  },
  "orig_nbformat": 4,
  "vscode": {
   "interpreter": {
    "hash": "93a850cdd8e1ced0015abffd1c74857b7727d52a3b5bd3cee8894c4cf53924e5"
   }
  }
 },
 "nbformat": 4,
 "nbformat_minor": 2
}
