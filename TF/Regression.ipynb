{
 "cells": [
  {
   "cell_type": "code",
   "execution_count": 1,
   "metadata": {},
   "outputs": [],
   "source": [
    "import pandas as pd\n",
    "import numpy as np"
   ]
  },
  {
   "cell_type": "code",
   "execution_count": 6,
   "metadata": {},
   "outputs": [],
   "source": [
    "def read_goog_msft():\n",
    "\n",
    "    googFilename = './datasets/GOOG.csv'\n",
    "    msftFilename = './datasets/MSFT.csv'\n",
    "\n",
    "    goog = pd.read_csv(googFilename, sep=',', usecols=[0,5], header=0, names=['Data', 'Goog'])\n",
    "    msft = pd.read_csv(msftFilename, sep=',', usecols=[0,5], header=0, names=['Data', 'MSFT'])\n",
    "\n",
    "    goog['MSFT'] = msft['MSFT']\n",
    "\n",
    "    goog['Data'] = pd.to_datetime(goog['Data'], format='%Y-%m-%d')\n",
    "\n",
    "    goog = goog.sort_values(['Data'], ascending=[True])\n",
    "\n",
    "    returns = goog[[Key for Key in dict(goog.dtypes) if dict(goog.dtypes) [Key] in ['float64', 'int64']]].pct_change()\n",
    "\n",
    "    xData = np.array(returns['Goog'])[1:]\n",
    "    yData = np.array(returns['MSFT'])[1:]\n",
    "    return(xData, yData)\n"
   ]
  },
  {
   "cell_type": "code",
   "execution_count": 7,
   "metadata": {},
   "outputs": [],
   "source": []
  },
  {
   "cell_type": "code",
   "execution_count": null,
   "metadata": {},
   "outputs": [],
   "source": []
  }
 ],
 "metadata": {
  "kernelspec": {
   "display_name": "Python 3.9.12 ('tf')",
   "language": "python",
   "name": "python3"
  },
  "language_info": {
   "codemirror_mode": {
    "name": "ipython",
    "version": 3
   },
   "file_extension": ".py",
   "mimetype": "text/x-python",
   "name": "python",
   "nbconvert_exporter": "python",
   "pygments_lexer": "ipython3",
   "version": "3.9.12"
  },
  "orig_nbformat": 4,
  "vscode": {
   "interpreter": {
    "hash": "93a850cdd8e1ced0015abffd1c74857b7727d52a3b5bd3cee8894c4cf53924e5"
   }
  }
 },
 "nbformat": 4,
 "nbformat_minor": 2
}
