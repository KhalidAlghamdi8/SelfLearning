{
 "cells": [
  {
   "cell_type": "code",
   "execution_count": 2,
   "metadata": {},
   "outputs": [],
   "source": [
    "import tensorflow as tf\n",
    "from tensorflow import keras\n",
    "from tensorflow.keras import layers\n",
    "from tensorflow.keras.datasets import mnist"
   ]
  },
  {
   "cell_type": "code",
   "execution_count": 3,
   "metadata": {},
   "outputs": [],
   "source": [
    "physical_devices = tf.config.list_physical_devices('GPU') \n",
    "tf.config.experimental.set_memory_growth(physical_devices[0], True)"
   ]
  },
  {
   "cell_type": "markdown",
   "metadata": {},
   "source": [
    "Load The data "
   ]
  },
  {
   "cell_type": "code",
   "execution_count": 5,
   "metadata": {},
   "outputs": [
    {
     "name": "stdout",
     "output_type": "stream",
     "text": [
      "(60000, 28, 28)\n",
      "(60000,)\n"
     ]
    }
   ],
   "source": [
    "(x_train, y_train), (x_test, y_test) = mnist.load_data()\n",
    "print(x_train.shape)\n",
    "print(y_train.shape)"
   ]
  },
  {
   "cell_type": "code",
   "execution_count": 6,
   "metadata": {},
   "outputs": [],
   "source": [
    "x_train = x_train.reshape(-1, 28*28).astype(\"float32\") / 255.0\n",
    "x_test = x_test.reshape(-1, 28*28).astype(\"float32\") / 255.0"
   ]
  },
  {
   "cell_type": "code",
   "execution_count": 15,
   "metadata": {},
   "outputs": [
    {
     "name": "stdout",
     "output_type": "stream",
     "text": [
      "Model: \"sequential_3\"\n",
      "_________________________________________________________________\n",
      "Layer (type)                 Output Shape              Param #   \n",
      "=================================================================\n",
      "dense_9 (Dense)              (None, 512)               401920    \n",
      "_________________________________________________________________\n",
      "dense_10 (Dense)             (None, 256)               131328    \n",
      "_________________________________________________________________\n",
      "dense_11 (Dense)             (None, 10)                2570      \n",
      "=================================================================\n",
      "Total params: 535,818\n",
      "Trainable params: 535,818\n",
      "Non-trainable params: 0\n",
      "_________________________________________________________________\n",
      "None\n"
     ]
    }
   ],
   "source": [
    "# Create a new model using the Sequential API \n",
    "model = keras.Sequential([\n",
    "    keras.Input(shape=(28*28)),\n",
    "    layers.Dense(512, activation='relu'), # Sequential activation  first layers\n",
    "    layers.Dense(256, activation='relu'), # Sequential activation 2nd layers\n",
    "    layers.Dense(10), # Sequential activation last layers\n",
    "])\n",
    "\n",
    "print(model.summary())   "
   ]
  },
  {
   "cell_type": "code",
   "execution_count": 8,
   "metadata": {},
   "outputs": [],
   "source": [
    "model.compile(\n",
    "    loss = keras.losses.SparseCategoricalCrossentropy(from_logits=True),\n",
    "    optimizer = keras.optimizers.Adam(learning_rate=0.001), \n",
    "    metrics=['accuracy'],\n",
    ")"
   ]
  },
  {
   "cell_type": "code",
   "execution_count": 11,
   "metadata": {},
   "outputs": [
    {
     "name": "stdout",
     "output_type": "stream",
     "text": [
      "Epoch 1/5\n",
      "1875/1875 - 3s - loss: 0.0149 - accuracy: 0.9953\n",
      "Epoch 2/5\n",
      "1875/1875 - 3s - loss: 0.0168 - accuracy: 0.9949\n",
      "Epoch 3/5\n",
      "1875/1875 - 3s - loss: 0.0129 - accuracy: 0.9965\n",
      "Epoch 4/5\n",
      "1875/1875 - 3s - loss: 0.0129 - accuracy: 0.9963\n",
      "Epoch 5/5\n",
      "1875/1875 - 3s - loss: 0.0144 - accuracy: 0.9964\n",
      "313/313 - 1s - loss: 0.1197 - accuracy: 0.9777\n"
     ]
    },
    {
     "data": {
      "text/plain": [
       "[0.11974664032459259, 0.9776999950408936]"
      ]
     },
     "execution_count": 11,
     "metadata": {},
     "output_type": "execute_result"
    }
   ],
   "source": [
    "model.fit(x_train,y_train, batch_size=32,epochs=5,verbose=2)\n",
    "model.evaluate(x_test,y_test, batch_size=32,verbose=2)"
   ]
  },
  {
   "cell_type": "code",
   "execution_count": 22,
   "metadata": {},
   "outputs": [
    {
     "name": "stdout",
     "output_type": "stream",
     "text": [
      "Epoch 1/5\n"
     ]
    },
    {
     "name": "stderr",
     "output_type": "stream",
     "text": [
      "c:\\Users\\kalgh\\anaconda3\\envs\\tf\\lib\\site-packages\\keras\\backend.py:4906: UserWarning: \"`sparse_categorical_crossentropy` received `from_logits=True`, but the `output` argument was produced by a sigmoid or softmax activation and thus does not represent logits. Was this intended?\"\n",
      "  warnings.warn(\n"
     ]
    },
    {
     "name": "stdout",
     "output_type": "stream",
     "text": [
      "1875/1875 - 3s - loss: 0.1847 - accuracy: 0.9427\n",
      "Epoch 2/5\n",
      "1875/1875 - 3s - loss: 0.0805 - accuracy: 0.9757\n",
      "Epoch 3/5\n",
      "1875/1875 - 3s - loss: 0.0561 - accuracy: 0.9812\n",
      "Epoch 4/5\n",
      "1875/1875 - 3s - loss: 0.0410 - accuracy: 0.9866\n",
      "Epoch 5/5\n",
      "1875/1875 - 3s - loss: 0.0333 - accuracy: 0.9894\n",
      "313/313 - 1s - loss: 0.0699 - accuracy: 0.9805\n",
      "Model: \"model_4\"\n",
      "_________________________________________________________________\n",
      "Layer (type)                 Output Shape              Param #   \n",
      "=================================================================\n",
      "input_9 (InputLayer)         [(None, 784)]             0         \n",
      "_________________________________________________________________\n",
      "1st_layers (Dense)           (None, 512)               401920    \n",
      "_________________________________________________________________\n",
      "2nd_layers (Dense)           (None, 256)               131328    \n",
      "_________________________________________________________________\n",
      "dense_24 (Dense)             (None, 10)                2570      \n",
      "=================================================================\n",
      "Total params: 535,818\n",
      "Trainable params: 535,818\n",
      "Non-trainable params: 0\n",
      "_________________________________________________________________\n",
      "None\n"
     ]
    }
   ],
   "source": [
    "# Functional API \n",
    "inputs = keras.Input(shape=(784))\n",
    "x = layers.Dense(512, activation='relu', name='1st_layers') (inputs) # Sequential activation  first layers\n",
    "x=  layers.Dense(256, activation='relu', name='2nd_layers') (x) # Sequential activation 2nd layers\n",
    "output = layers.Dense(10, activation='softmax') (x) # Sequential(x)  # Sequential activation last layers\n",
    "model = keras.Model(inputs=inputs, outputs=output)\n",
    "model.compile(\n",
    "    loss = keras.losses.SparseCategoricalCrossentropy(from_logits=True),\n",
    "    optimizer = keras.optimizers.Adam(learning_rate=0.001), \n",
    "    metrics=['accuracy'],\n",
    "    \n",
    ")\n",
    "\n",
    "model.fit(x_train,y_train, batch_size=32,epochs=5,verbose=2)\n",
    "model.evaluate(x_test,y_test, batch_size=32,verbose=2)\n",
    "print(model.summary())\n"
   ]
  },
  {
   "cell_type": "code",
   "execution_count": 24,
   "metadata": {},
   "outputs": [
    {
     "name": "stdout",
     "output_type": "stream",
     "text": [
      "(60000, 256)\n"
     ]
    }
   ],
   "source": [
    "model = keras.Sequential()\n",
    "model.add(keras.Input(shape=(784)))\n",
    "model.add(layers.Dense(512, activation='relu', name='1st_layers')) # Sequential activation  first layers\n",
    "model.add(layers.Dense(256, activation='relu', name='2nd_layers')) # Sequential activation 2nd layers\n",
    "model.add(layers.Dense(10)) # Sequential(x)  # Sequential activation last layers\n",
    "\n",
    "model = keras.Model(inputs=model.inputs, outputs=[model.layers[-2].output])\n",
    "feature = model.predict(x_train)\n",
    "print(feature.shape)"
   ]
  },
  {
   "cell_type": "code",
   "execution_count": null,
   "metadata": {},
   "outputs": [],
   "source": []
  }
 ],
 "metadata": {
  "kernelspec": {
   "display_name": "Python 3.9.12 ('tf')",
   "language": "python",
   "name": "python3"
  },
  "language_info": {
   "codemirror_mode": {
    "name": "ipython",
    "version": 3
   },
   "file_extension": ".py",
   "mimetype": "text/x-python",
   "name": "python",
   "nbconvert_exporter": "python",
   "pygments_lexer": "ipython3",
   "version": "3.9.12"
  },
  "orig_nbformat": 4,
  "vscode": {
   "interpreter": {
    "hash": "93a850cdd8e1ced0015abffd1c74857b7727d52a3b5bd3cee8894c4cf53924e5"
   }
  }
 },
 "nbformat": 4,
 "nbformat_minor": 2
}
