{
 "cells": [
  {
   "cell_type": "code",
   "execution_count": 1,
   "metadata": {},
   "outputs": [],
   "source": [
    "import os\n",
    "\n",
    "os.environ[\"TF_CPP_MIN_LOG_LEVEL\"] = \"2\"\n",
    "import tensorflow as tf\n",
    "from tensorflow import keras\n",
    "from tensorflow.keras import layers\n",
    "from tensorflow.keras.datasets import mnist\n",
    "import tensorflow_hub as hub\n",
    "\n",
    "# To Avoid GPU errors\n",
    "physical_devices = tf.config.list_physical_devices(\"GPU\")\n",
    "tf.config.experimental.set_memory_growth(physical_devices[0], True)"
   ]
  },
  {
   "cell_type": "markdown",
   "metadata": {},
   "source": [
    "Pretrained-Model "
   ]
  },
  {
   "cell_type": "code",
   "execution_count": 3,
   "metadata": {},
   "outputs": [
    {
     "name": "stdout",
     "output_type": "stream",
     "text": [
      "Model: \"my_model\"\n",
      "_________________________________________________________________\n",
      "Layer (type)                 Output Shape              Param #   \n",
      "=================================================================\n",
      "dense (Dense)                multiple                  50240     \n",
      "_________________________________________________________________\n",
      "dense_1 (Dense)              multiple                  650       \n",
      "=================================================================\n",
      "Total params: 50,890\n",
      "Trainable params: 50,890\n",
      "Non-trainable params: 0\n",
      "_________________________________________________________________\n",
      "None\n"
     ]
    }
   ],
   "source": [
    "(x_train, y_train), (x_test, y_test) = mnist.load_data()\n",
    "x_train = x_train.reshape(-1, 28, 28, 1).astype(\"float32\") / 255.0\n",
    "x_test = x_test.reshape(-1, 28, 28, 1).astype(\"float32\") / 255.0\n",
    "\n",
    "model = keras.models.load_model(\"saved_model/\")\n",
    "print(model.summary())\n",
    "\n",
    "# Freeze all model layer weights\n",
    "# model.trainable = False\n",
    "\n",
    "# # Can also set trainable for specific layers\n",
    "# for layer in model.layers:\n",
    "#     # assert should be true because of one-liner above\n",
    "#     assert layer.trainable == False\n",
    "#     layer.trainable = False\n",
    "\n",
    "# print(model.summary())  # for finding base input and output\n",
    "# base_inputs = model.layers[0].input\n",
    "# base_output = model.layers[-2].output\n",
    "# output = layers.Dense(10)(base_output)\n",
    "# new_model = keras.Model(base_inputs, output)\n",
    "\n",
    "# # This model is actually identical to model we\n",
    "# # loaded (this is just for demonstration and\n",
    "# # and not something you would do in practice).\n",
    "# print(new_model.summary())\n",
    "\n",
    "# # As usual we do compile and fit, this time on new_model\n",
    "# new_model.compile(\n",
    "#     optimizer=keras.optimizers.Adam(),\n",
    "#     loss=keras.losses.SparseCategoricalCrossentropy(from_logits=True),\n",
    "#     metrics=[\"accuracy\"],\n",
    "# )\n",
    "\n",
    "# new_model.fit(x_train, y_train, batch_size=32, epochs=3, verbose=2)"
   ]
  },
  {
   "cell_type": "markdown",
   "metadata": {},
   "source": [
    "Pretrained Keras Model "
   ]
  },
  {
   "cell_type": "code",
   "execution_count": 10,
   "metadata": {},
   "outputs": [
    {
     "name": "stdout",
     "output_type": "stream",
     "text": [
      "Downloading data from https://storage.googleapis.com/tensorflow/keras-applications/inception_v3/inception_v3_weights_tf_dim_ordering_tf_kernels.h5\n",
      "96116736/96112376 [==============================] - 4s 0us/step\n",
      "96124928/96112376 [==============================] - 4s 0us/step\n",
      "Epoch 1/15\n",
      "1/1 - 8s - loss: 2.7672 - accuracy: 0.0000e+00\n",
      "Epoch 2/15\n",
      "1/1 - 0s - loss: 0.5552 - accuracy: 1.0000\n",
      "Epoch 3/15\n",
      "1/1 - 0s - loss: 0.0199 - accuracy: 1.0000\n",
      "Epoch 4/15\n",
      "1/1 - 0s - loss: 4.8007e-04 - accuracy: 1.0000\n",
      "Epoch 5/15\n",
      "1/1 - 0s - loss: 1.2499e-04 - accuracy: 1.0000\n",
      "Epoch 6/15\n",
      "1/1 - 0s - loss: 6.2510e-05 - accuracy: 1.0000\n",
      "Epoch 7/15\n",
      "1/1 - 0s - loss: 4.0983e-05 - accuracy: 1.0000\n",
      "Epoch 8/15\n",
      "1/1 - 0s - loss: 3.1041e-05 - accuracy: 1.0000\n",
      "Epoch 9/15\n",
      "1/1 - 0s - loss: 2.6965e-05 - accuracy: 1.0000\n",
      "Epoch 10/15\n",
      "1/1 - 0s - loss: 2.5629e-05 - accuracy: 1.0000\n",
      "Epoch 11/15\n",
      "1/1 - 0s - loss: 2.5176e-05 - accuracy: 1.0000\n",
      "Epoch 12/15\n",
      "1/1 - 0s - loss: 2.5963e-05 - accuracy: 1.0000\n",
      "Epoch 13/15\n",
      "1/1 - 0s - loss: 2.6964e-05 - accuracy: 1.0000\n",
      "Epoch 14/15\n",
      "1/1 - 0s - loss: 2.7727e-05 - accuracy: 1.0000\n",
      "Epoch 15/15\n",
      "1/1 - 0s - loss: 2.9015e-05 - accuracy: 1.0000\n"
     ]
    },
    {
     "data": {
      "text/plain": [
       "<keras.callbacks.History at 0x1ba2adec3d0>"
      ]
     },
     "execution_count": 10,
     "metadata": {},
     "output_type": "execute_result"
    }
   ],
   "source": [
    "x = tf.random.normal(shape=(5, 299, 299, 3)),\n",
    "y = tf.constant([0, 1, 2, 3, 4])\n",
    "\n",
    "model = keras.applications.InceptionV3(include_top=True)\n",
    "# print(model.summary())\n",
    "base_inputs = model.layers[0].input\n",
    "base_output = model.layers[-2].output\n",
    "final_output = layers.Dense(10)(base_output)\n",
    "new_model = keras.Model(base_inputs, final_output)\n",
    "\n",
    "new_model.compile(\n",
    "    optimizer=keras.optimizers.Adam(),\n",
    "    loss=keras.losses.SparseCategoricalCrossentropy(from_logits=True),\n",
    "    metrics=[\"accuracy\"],\n",
    ")\n",
    "\n",
    "# print(new_model.summary())\n",
    "new_model.fit(x, y, epochs=15, verbose=2)"
   ]
  },
  {
   "cell_type": "markdown",
   "metadata": {},
   "source": [
    "Pretrained Hub Model  "
   ]
  },
  {
   "cell_type": "code",
   "execution_count": 12,
   "metadata": {},
   "outputs": [
    {
     "name": "stdout",
     "output_type": "stream",
     "text": [
      "Epoch 1/15\n",
      "1/1 - 7s - loss: 2.5552 - accuracy: 0.0000e+00\n",
      "Epoch 2/15\n",
      "1/1 - 0s - loss: 2.1027 - accuracy: 0.3333\n",
      "Epoch 3/15\n",
      "1/1 - 0s - loss: 1.8510 - accuracy: 0.3333\n",
      "Epoch 4/15\n",
      "1/1 - 0s - loss: 1.6085 - accuracy: 0.3333\n",
      "Epoch 5/15\n",
      "1/1 - 0s - loss: 1.3762 - accuracy: 0.6667\n",
      "Epoch 6/15\n",
      "1/1 - 0s - loss: 1.2153 - accuracy: 0.6667\n",
      "Epoch 7/15\n",
      "1/1 - 0s - loss: 1.1104 - accuracy: 0.6667\n",
      "Epoch 8/15\n",
      "1/1 - 0s - loss: 1.0296 - accuracy: 0.6667\n",
      "Epoch 9/15\n",
      "1/1 - 0s - loss: 0.9703 - accuracy: 0.6667\n",
      "Epoch 10/15\n",
      "1/1 - 0s - loss: 0.9140 - accuracy: 0.6667\n",
      "Epoch 11/15\n",
      "1/1 - 0s - loss: 0.8708 - accuracy: 0.6667\n",
      "Epoch 12/15\n",
      "1/1 - 0s - loss: 0.8246 - accuracy: 0.6667\n",
      "Epoch 13/15\n",
      "1/1 - 0s - loss: 0.7745 - accuracy: 0.6667\n",
      "Epoch 14/15\n",
      "1/1 - 0s - loss: 0.7208 - accuracy: 1.0000\n",
      "Epoch 15/15\n",
      "1/1 - 0s - loss: 0.6715 - accuracy: 1.0000\n"
     ]
    },
    {
     "data": {
      "text/plain": [
       "<keras.callbacks.History at 0x1bc4bd07580>"
      ]
     },
     "execution_count": 12,
     "metadata": {},
     "output_type": "execute_result"
    }
   ],
   "source": [
    "# Random data for demonstration (3 examples w. 3 classes)\n",
    "x = tf.random.normal(shape=(3, 299, 299, 3))\n",
    "y = tf.constant([0, 1, 2])\n",
    "\n",
    "url = \"https://tfhub.dev/google/imagenet/inception_v3/feature_vector/4\"\n",
    "\n",
    "base_model = hub.KerasLayer(url, input_shape=(299, 299, 3))\n",
    "model = keras.Sequential(\n",
    "    [\n",
    "        base_model,\n",
    "        layers.Dense(128, activation=\"relu\"),\n",
    "        layers.Dense(64, activation=\"relu\"),\n",
    "        layers.Dense(10),\n",
    "    ]\n",
    ")\n",
    "\n",
    "model.compile(\n",
    "    optimizer=keras.optimizers.Adam(),\n",
    "    loss=keras.losses.SparseCategoricalCrossentropy(from_logits=True),\n",
    "    metrics=[\"accuracy\"],\n",
    ")\n",
    "\n",
    "model.fit(x, y, batch_size=32, epochs=15, verbose=2)\n",
    "\n"
   ]
  },
  {
   "cell_type": "code",
   "execution_count": null,
   "metadata": {},
   "outputs": [],
   "source": []
  }
 ],
 "metadata": {
  "kernelspec": {
   "display_name": "Python 3.9.12 ('tf')",
   "language": "python",
   "name": "python3"
  },
  "language_info": {
   "codemirror_mode": {
    "name": "ipython",
    "version": 3
   },
   "file_extension": ".py",
   "mimetype": "text/x-python",
   "name": "python",
   "nbconvert_exporter": "python",
   "pygments_lexer": "ipython3",
   "version": "3.9.12"
  },
  "orig_nbformat": 4,
  "vscode": {
   "interpreter": {
    "hash": "93a850cdd8e1ced0015abffd1c74857b7727d52a3b5bd3cee8894c4cf53924e5"
   }
  }
 },
 "nbformat": 4,
 "nbformat_minor": 2
}
