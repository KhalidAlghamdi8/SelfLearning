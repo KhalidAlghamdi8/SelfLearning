{
 "cells": [
  {
   "cell_type": "code",
   "execution_count": 1,
   "metadata": {},
   "outputs": [],
   "source": [
    "import tensorflow as tf\n",
    "from tensorflow import keras\n",
    "from tensorflow.keras import layers, regularizers\n",
    "from tensorflow.keras.datasets import cifar10"
   ]
  },
  {
   "cell_type": "code",
   "execution_count": 2,
   "metadata": {},
   "outputs": [],
   "source": [
    "physical_devices = tf.config.list_physical_devices('GPU') \n",
    "tf.config.experimental.set_memory_growth(physical_devices[0], True)"
   ]
  },
  {
   "cell_type": "code",
   "execution_count": 3,
   "metadata": {},
   "outputs": [
    {
     "name": "stdout",
     "output_type": "stream",
     "text": [
      "(50000, 32, 32, 3)\n",
      "(10000, 32, 32, 3)\n"
     ]
    }
   ],
   "source": [
    "(x_train, y_train), (x_test, y_test) = cifar10.load_data()\n",
    "x_train = x_train.astype(\"float32\") / 255.0\n",
    "x_test = x_test.astype(\"float32\") / 255.0\n",
    "print(x_train.shape)\n",
    "print(x_test.shape)"
   ]
  },
  {
   "cell_type": "code",
   "execution_count": 4,
   "metadata": {},
   "outputs": [],
   "source": [
    "# Create a new model using CNN - Sequential API \n",
    "model = keras.Sequential([\n",
    "    keras.Input(shape=(32,32,3)),\n",
    "    layers.Conv2D(32, 3, padding='same', activation='relu'), \n",
    "    layers.MaxPool2D(pool_size=(2,2)), \n",
    "    layers.Conv2D(64, 3, activation='relu'), \n",
    "    layers.MaxPool2D(),\n",
    "    layers.Conv2D(128, 3, activation='relu'), \n",
    "    layers.Flatten(),\n",
    "    layers.Dense(64, activation='relu'),\n",
    "    layers.Dense(10), \n",
    "])"
   ]
  },
  {
   "cell_type": "code",
   "execution_count": 5,
   "metadata": {},
   "outputs": [
    {
     "name": "stdout",
     "output_type": "stream",
     "text": [
      "Epoch 1/10\n",
      "782/782 - 7s - loss: 1.6891 - accuracy: 0.3868\n",
      "Epoch 2/10\n",
      "782/782 - 2s - loss: 1.3317 - accuracy: 0.5238\n",
      "Epoch 3/10\n",
      "782/782 - 2s - loss: 1.1891 - accuracy: 0.5796\n",
      "Epoch 4/10\n",
      "782/782 - 2s - loss: 1.0943 - accuracy: 0.6156\n",
      "Epoch 5/10\n"
     ]
    }
   ],
   "source": [
    "model.compile(\n",
    "    loss = keras.losses.SparseCategoricalCrossentropy(from_logits=True),\n",
    "    optimizer = keras.optimizers.Adam(learning_rate=3e-4), \n",
    "    metrics=['accuracy'],\n",
    ")\n",
    "model.fit(x_train,y_train, batch_size=64,epochs=10,verbose=2)\n",
    "model.evaluate(x_test,y_test, batch_size=64,verbose=2)"
   ]
  },
  {
   "cell_type": "code",
   "execution_count": 32,
   "metadata": {},
   "outputs": [
    {
     "name": "stdout",
     "output_type": "stream",
     "text": [
      "Model: \"sequential_1\"\n",
      "_________________________________________________________________\n",
      "Layer (type)                 Output Shape              Param #   \n",
      "=================================================================\n",
      "conv2d_9 (Conv2D)            (None, 32, 32, 32)        896       \n",
      "_________________________________________________________________\n",
      "max_pooling2d_4 (MaxPooling2 (None, 16, 16, 32)        0         \n",
      "_________________________________________________________________\n",
      "conv2d_10 (Conv2D)           (None, 14, 14, 64)        18496     \n",
      "_________________________________________________________________\n",
      "max_pooling2d_5 (MaxPooling2 (None, 7, 7, 64)          0         \n",
      "_________________________________________________________________\n",
      "conv2d_11 (Conv2D)           (None, 5, 5, 128)         73856     \n",
      "_________________________________________________________________\n",
      "flatten_2 (Flatten)          (None, 3200)              0         \n",
      "_________________________________________________________________\n",
      "dense_4 (Dense)              (None, 64)                204864    \n",
      "_________________________________________________________________\n",
      "dense_5 (Dense)              (None, 10)                650       \n",
      "=================================================================\n",
      "Total params: 298,762\n",
      "Trainable params: 298,762\n",
      "Non-trainable params: 0\n",
      "_________________________________________________________________\n",
      "None\n"
     ]
    }
   ],
   "source": [
    "print(model.summary())  "
   ]
  },
  {
   "cell_type": "code",
   "execution_count": 5,
   "metadata": {},
   "outputs": [],
   "source": [
    "# Adding Regularization with L2 and Dropout\n",
    "\n",
    "def my_model():\n",
    "    inputs = keras.Input(shape=(32, 32, 3))\n",
    "    x = layers.Conv2D(32, 3, padding=\"same\", kernel_regularizer=regularizers.l2(0.01),)(\n",
    "        inputs\n",
    "    )\n",
    "    x = layers.BatchNormalization()(x)\n",
    "    x = keras.activations.relu(x)\n",
    "    x = layers.MaxPooling2D()(x)\n",
    "    x = layers.Conv2D(64, 3, padding=\"same\", kernel_regularizer=regularizers.l2(0.01),)(\n",
    "        x\n",
    "    )\n",
    "    x = layers.BatchNormalization()(x)\n",
    "    x = keras.activations.relu(x)\n",
    "    x = layers.MaxPooling2D()(x)\n",
    "    x = layers.Conv2D(\n",
    "        128, 3, padding=\"same\", kernel_regularizer=regularizers.l2(0.01),\n",
    "    )(x)\n",
    "    x = layers.BatchNormalization()(x)\n",
    "    x = keras.activations.relu(x)\n",
    "    x = layers.Flatten()(x)\n",
    "    x = layers.Dense(64, activation=\"relu\", kernel_regularizer=regularizers.l2(0.01),)(\n",
    "        x\n",
    "    )\n",
    "    x = layers.Dropout(0.5)(x)\n",
    "    outputs = layers.Dense(10)(x)\n",
    "    model = keras.Model(inputs=inputs, outputs=outputs)\n",
    "    return model"
   ]
  },
  {
   "cell_type": "code",
   "execution_count": 6,
   "metadata": {},
   "outputs": [
    {
     "name": "stderr",
     "output_type": "stream",
     "text": [
      "c:\\Users\\kalgh\\anaconda3\\envs\\tf\\lib\\site-packages\\keras\\optimizer_v2\\optimizer_v2.py:355: UserWarning: The `lr` argument is deprecated, use `learning_rate` instead.\n",
      "  warnings.warn(\n"
     ]
    },
    {
     "name": "stdout",
     "output_type": "stream",
     "text": [
      "Epoch 1/150\n",
      "782/782 - 9s - loss: 3.0167 - accuracy: 0.3339\n",
      "Epoch 2/150\n",
      "782/782 - 3s - loss: 1.9320 - accuracy: 0.4536\n",
      "Epoch 3/150\n",
      "782/782 - 3s - loss: 1.6661 - accuracy: 0.4920\n",
      "Epoch 4/150\n",
      "782/782 - 3s - loss: 1.5456 - accuracy: 0.5149\n",
      "Epoch 5/150\n",
      "782/782 - 3s - loss: 1.4898 - accuracy: 0.5242\n",
      "Epoch 6/150\n",
      "782/782 - 3s - loss: 1.4456 - accuracy: 0.5405\n",
      "Epoch 7/150\n",
      "782/782 - 3s - loss: 1.4236 - accuracy: 0.5456\n",
      "Epoch 8/150\n",
      "782/782 - 3s - loss: 1.3947 - accuracy: 0.5550\n",
      "Epoch 9/150\n",
      "782/782 - 3s - loss: 1.3718 - accuracy: 0.5619\n",
      "Epoch 10/150\n",
      "782/782 - 3s - loss: 1.3515 - accuracy: 0.5739\n",
      "Epoch 11/150\n",
      "782/782 - 3s - loss: 1.3483 - accuracy: 0.5751\n",
      "Epoch 12/150\n",
      "782/782 - 3s - loss: 1.3235 - accuracy: 0.5825\n",
      "Epoch 13/150\n",
      "782/782 - 3s - loss: 1.3151 - accuracy: 0.5869\n",
      "Epoch 14/150\n",
      "782/782 - 4s - loss: 1.3082 - accuracy: 0.5910\n",
      "Epoch 15/150\n",
      "782/782 - 4s - loss: 1.2888 - accuracy: 0.5995\n",
      "Epoch 16/150\n",
      "782/782 - 4s - loss: 1.2831 - accuracy: 0.6031\n",
      "Epoch 17/150\n",
      "782/782 - 4s - loss: 1.2702 - accuracy: 0.6090\n",
      "Epoch 18/150\n",
      "782/782 - 4s - loss: 1.2593 - accuracy: 0.6147\n",
      "Epoch 19/150\n",
      "782/782 - 4s - loss: 1.2568 - accuracy: 0.6143\n",
      "Epoch 20/150\n",
      "782/782 - 4s - loss: 1.2464 - accuracy: 0.6216\n",
      "Epoch 21/150\n",
      "782/782 - 4s - loss: 1.2354 - accuracy: 0.6242\n",
      "Epoch 22/150\n",
      "782/782 - 4s - loss: 1.2323 - accuracy: 0.6323\n",
      "Epoch 23/150\n",
      "782/782 - 4s - loss: 1.2272 - accuracy: 0.6325\n",
      "Epoch 24/150\n"
     ]
    }
   ],
   "source": [
    "model = my_model()\n",
    "model.compile(\n",
    "    loss=keras.losses.SparseCategoricalCrossentropy(from_logits=True),\n",
    "    optimizer=keras.optimizers.Adam(lr=3e-4),\n",
    "    metrics=[\"accuracy\"],\n",
    ")\n",
    "\n",
    "model.fit(x_train, y_train, batch_size=64, epochs=150, verbose=2)\n",
    "model.evaluate(x_test, y_test, batch_size=64, verbose=2)"
   ]
  },
  {
   "cell_type": "code",
   "execution_count": null,
   "metadata": {},
   "outputs": [],
   "source": []
  }
 ],
 "metadata": {
  "kernelspec": {
   "display_name": "Python 3.9.12 ('tf')",
   "language": "python",
   "name": "python3"
  },
  "language_info": {
   "codemirror_mode": {
    "name": "ipython",
    "version": 3
   },
   "file_extension": ".py",
   "mimetype": "text/x-python",
   "name": "python",
   "nbconvert_exporter": "python",
   "pygments_lexer": "ipython3",
   "version": "3.9.12"
  },
  "orig_nbformat": 4,
  "vscode": {
   "interpreter": {
    "hash": "93a850cdd8e1ced0015abffd1c74857b7727d52a3b5bd3cee8894c4cf53924e5"
   }
  }
 },
 "nbformat": 4,
 "nbformat_minor": 2
}
