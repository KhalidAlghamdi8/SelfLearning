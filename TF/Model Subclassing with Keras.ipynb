{
 "cells": [
  {
   "cell_type": "code",
   "execution_count": 1,
   "metadata": {},
   "outputs": [
    {
     "name": "stdout",
     "output_type": "stream",
     "text": [
      "(60000, 28, 28, 1)\n",
      "(10000, 28, 28, 1)\n"
     ]
    }
   ],
   "source": [
    "import tensorflow as tf\n",
    "from tensorflow import keras\n",
    "from tensorflow.keras import layers\n",
    "from tensorflow.keras.datasets import mnist\n",
    "\n",
    "physical_devices = tf.config.list_physical_devices('GPU') \n",
    "tf.config.experimental.set_memory_growth(physical_devices[0], True)\n",
    "\n",
    "(x_train, y_train), (x_test, y_test) = mnist.load_data()\n",
    "x_train = x_train.reshape(-1,28,28,1).astype(\"float32\") / 255.0\n",
    "x_test = x_test.reshape(-1,28,28,1).astype(\"float32\") / 255.0\n",
    "print(x_train.shape)\n",
    "print(x_test.shape)"
   ]
  },
  {
   "cell_type": "code",
   "execution_count": 18,
   "metadata": {},
   "outputs": [],
   "source": [
    "class CNNBlock(layers.Layer):\n",
    "    def __init__(self, out_channels, kernel_size=3):\n",
    "        super(CNNBlock, self).__init__()\n",
    "        self.conv = layers.Conv2D(out_channels, kernel_size=kernel_size, padding=\"same\")\n",
    "        self.bn = layers.BatchNormalization()\n",
    "\n",
    "    def call(self, input_tensor, training=False):\n",
    "        x = self.conv(input_tensor)\n",
    "        x = self.bn(x, training=training)\n",
    "        x = tf.nn.relu(x)\n",
    "        return x\n",
    "\n",
    "model = keras.Sequential(\n",
    "    [\n",
    "        CNNBlock(32),\n",
    "        CNNBlock(64),\n",
    "        CNNBlock(128),\n",
    "        layers.Flatten(),\n",
    "        layers.Dense(10),\n",
    "    ]\n",
    ")\n",
    "\n",
    "model.compile(\n",
    "    loss=keras.losses.SparseCategoricalCrossentropy(from_logits=True),\n",
    "    optimizer=keras.optimizers.Adam(learning_rate=0.001),\n",
    "    metrics=[\"accuracy\"],\n",
    ")\n",
    "\n",
    "model.fit(x_train, y_train, batch_size=64, epochs=10, verbose=2)\n",
    "print(model.summary())\n",
    "\n",
    "model.evaluate(x_test, y_test, batch_size=64, verbose=2)\n"
   ]
  },
  {
   "cell_type": "code",
   "execution_count": 19,
   "metadata": {},
   "outputs": [
    {
     "name": "stdout",
     "output_type": "stream",
     "text": [
      "Epoch 1/10\n",
      "938/938 - 9s - loss: 0.5239 - accuracy: 0.9461\n",
      "Epoch 2/10\n",
      "938/938 - 4s - loss: 0.0701 - accuracy: 0.9827\n",
      "Epoch 3/10\n",
      "938/938 - 4s - loss: 0.0342 - accuracy: 0.9895\n",
      "Epoch 4/10\n",
      "938/938 - 4s - loss: 0.0267 - accuracy: 0.9914\n",
      "Epoch 5/10\n",
      "938/938 - 4s - loss: 0.0272 - accuracy: 0.9915\n",
      "Epoch 6/10\n",
      "938/938 - 4s - loss: 0.0230 - accuracy: 0.9924\n",
      "Epoch 7/10\n",
      "938/938 - 4s - loss: 0.0186 - accuracy: 0.9940\n",
      "Epoch 8/10\n",
      "938/938 - 4s - loss: 0.0126 - accuracy: 0.9957\n",
      "Epoch 9/10\n",
      "938/938 - 4s - loss: 0.0136 - accuracy: 0.9954\n",
      "Epoch 10/10\n",
      "938/938 - 4s - loss: 0.0106 - accuracy: 0.9965\n",
      "Model: \"sequential_3\"\n",
      "_________________________________________________________________\n",
      "Layer (type)                 Output Shape              Param #   \n",
      "=================================================================\n",
      "cnn_block_9 (CNNBlock)       (None, 28, 28, 32)        448       \n",
      "_________________________________________________________________\n",
      "cnn_block_10 (CNNBlock)      (None, 28, 28, 64)        18752     \n",
      "_________________________________________________________________\n",
      "cnn_block_11 (CNNBlock)      (None, 28, 28, 128)       74368     \n",
      "_________________________________________________________________\n",
      "flatten_3 (Flatten)          (None, 100352)            0         \n",
      "_________________________________________________________________\n",
      "dense_3 (Dense)              (None, 10)                1003530   \n",
      "=================================================================\n",
      "Total params: 1,097,098\n",
      "Trainable params: 1,096,650\n",
      "Non-trainable params: 448\n",
      "_________________________________________________________________\n",
      "None\n",
      "157/157 - 0s - loss: 0.0556 - accuracy: 0.9869\n"
     ]
    },
    {
     "data": {
      "text/plain": [
       "[0.055611755698919296, 0.9868999719619751]"
      ]
     },
     "execution_count": 19,
     "metadata": {},
     "output_type": "execute_result"
    }
   ],
   "source": [
    "model = keras.Sequential(\n",
    "    [\n",
    "        CNNBlock(32),\n",
    "        CNNBlock(64),\n",
    "        CNNBlock(128),\n",
    "        layers.Flatten(),\n",
    "        layers.Dense(10),\n",
    "    ]\n",
    ")\n",
    "\n",
    "model.compile(\n",
    "    loss=keras.losses.SparseCategoricalCrossentropy(from_logits=True),\n",
    "    optimizer=keras.optimizers.Adam(learning_rate=0.001),\n",
    "    metrics=[\"accuracy\"],\n",
    ")\n",
    "\n",
    "model.fit(x_train, y_train, batch_size=64, epochs=10, verbose=2)\n",
    "print(model.summary())\n",
    "\n",
    "model.evaluate(x_test, y_test, batch_size=64, verbose=2)"
   ]
  },
  {
   "cell_type": "code",
   "execution_count": 24,
   "metadata": {},
   "outputs": [
    {
     "name": "stdout",
     "output_type": "stream",
     "text": [
      "Epoch 1/3\n",
      "938/938 - 5s - loss: 0.5388 - accuracy: 0.9468\n",
      "Epoch 2/3\n",
      "938/938 - 4s - loss: 0.0884 - accuracy: 0.9815\n",
      "Epoch 3/3\n",
      "938/938 - 4s - loss: 0.0344 - accuracy: 0.9893\n",
      "Model: \"sequential_4\"\n",
      "_________________________________________________________________\n",
      "Layer (type)                 Output Shape              Param #   \n",
      "=================================================================\n",
      "cnn_block_12 (CNNBlock)      (None, 28, 28, 32)        448       \n",
      "_________________________________________________________________\n",
      "cnn_block_13 (CNNBlock)      (None, 28, 28, 64)        18752     \n",
      "_________________________________________________________________\n",
      "cnn_block_14 (CNNBlock)      (None, 28, 28, 128)       74368     \n",
      "_________________________________________________________________\n",
      "flatten_5 (Flatten)          (None, 100352)            0         \n",
      "_________________________________________________________________\n",
      "dense_5 (Dense)              (None, 10)                1003530   \n",
      "=================================================================\n",
      "Total params: 1,097,098\n",
      "Trainable params: 1,096,650\n",
      "Non-trainable params: 448\n",
      "_________________________________________________________________\n",
      "None\n",
      "157/157 - 0s - loss: 0.0433 - accuracy: 0.9870\n"
     ]
    },
    {
     "data": {
      "text/plain": [
       "[0.04326179623603821, 0.9869999885559082]"
      ]
     },
     "execution_count": 24,
     "metadata": {},
     "output_type": "execute_result"
    }
   ],
   "source": [
    "model = keras.Sequential(\n",
    "    [\n",
    "        CNNBlock(32),\n",
    "        CNNBlock(64),\n",
    "        CNNBlock(128),\n",
    "        layers.Flatten(),\n",
    "        layers.Dense(10),\n",
    "    ]\n",
    ")\n",
    "\n",
    "model.compile(\n",
    "    loss=keras.losses.SparseCategoricalCrossentropy(from_logits=True),\n",
    "    optimizer=keras.optimizers.Adam(learning_rate=0.001),\n",
    "    metrics=[\"accuracy\"],\n",
    ")\n",
    "\n",
    "model.fit(x_train, y_train, batch_size=64, epochs=3, verbose=2)\n",
    "print(model.summary())\n",
    "model.evaluate(x_test, y_test, batch_size=64, verbose=2)"
   ]
  },
  {
   "cell_type": "code",
   "execution_count": 25,
   "metadata": {},
   "outputs": [
    {
     "name": "stdout",
     "output_type": "stream",
     "text": [
      "Epoch 1/3\n",
      "938/938 - 5s - loss: 0.0509 - accuracy: 0.9844\n",
      "Epoch 2/3\n",
      "938/938 - 4s - loss: 0.0260 - accuracy: 0.9917\n",
      "Epoch 3/3\n",
      "938/938 - 4s - loss: 0.0178 - accuracy: 0.9940\n",
      "Model: \"sequential_4\"\n",
      "_________________________________________________________________\n",
      "Layer (type)                 Output Shape              Param #   \n",
      "=================================================================\n",
      "cnn_block_12 (CNNBlock)      (None, 28, 28, 32)        448       \n",
      "_________________________________________________________________\n",
      "cnn_block_13 (CNNBlock)      (None, 28, 28, 64)        18752     \n",
      "_________________________________________________________________\n",
      "cnn_block_14 (CNNBlock)      (None, 28, 28, 128)       74368     \n",
      "_________________________________________________________________\n",
      "flatten_5 (Flatten)          (None, 100352)            0         \n",
      "_________________________________________________________________\n",
      "dense_5 (Dense)              (None, 10)                1003530   \n",
      "=================================================================\n",
      "Total params: 1,097,098\n",
      "Trainable params: 1,096,650\n",
      "Non-trainable params: 448\n",
      "_________________________________________________________________\n",
      "None\n",
      "157/157 - 0s - loss: 0.0460 - accuracy: 0.9875\n"
     ]
    },
    {
     "data": {
      "text/plain": [
       "[0.04597494751214981, 0.987500011920929]"
      ]
     },
     "execution_count": 25,
     "metadata": {},
     "output_type": "execute_result"
    }
   ],
   "source": [
    "class ResBlack(layers.Layer):\n",
    "    def __init__(self, channels):\n",
    "        super(ResBlack, self).__init__()\n",
    "        self.cnn1 = CNNBlock(channels=[0])\n",
    "        self.cnn2 = CNNBlock(channels=[1])\n",
    "        self.cnn2 = CNNBlock(channels=[2])\n",
    "        self,pooling = layers.MaxPooling2D()\n",
    "        self.identity_mapping = layers.Conv2D(channels[1],1 ,padding='same')\n",
    "\n",
    "    def cell(self, input_tensor, trainning=False):\n",
    "        x = self.cnn1(input_tensor, trainning=trainning)\n",
    "        x = self.cnn2(x, trainning=trainning)\n",
    "        x = self.cnn3( x + self.identity_mapping(input_tensor), trainning=trainning)\n",
    "        return self.padding(x)\n",
    "\n",
    "model.compile(\n",
    "    loss=keras.losses.SparseCategoricalCrossentropy(from_logits=True),\n",
    "    optimizer=keras.optimizers.Adam(learning_rate=0.001),\n",
    "    metrics=[\"accuracy\"],\n",
    ")\n",
    "\n",
    "model.fit(x_train, y_train, batch_size=64, epochs=3, verbose=2)\n",
    "print(model.summary())\n",
    "model.evaluate(x_test, y_test, batch_size=64, verbose=2)\n"
   ]
  },
  {
   "cell_type": "code",
   "execution_count": 26,
   "metadata": {},
   "outputs": [
    {
     "name": "stdout",
     "output_type": "stream",
     "text": [
      "938/938 - 5s - loss: 0.0629 - accuracy: 0.9810\n",
      "Model: \"model_1\"\n",
      "_________________________________________________________________\n",
      "Layer (type)                 Output Shape              Param #   \n",
      "=================================================================\n",
      "cnn_block_12_input (InputLay [(None, 28, 28, 1)]       0         \n",
      "_________________________________________________________________\n",
      "cnn_block_12 (CNNBlock)      (None, 28, 28, 32)        448       \n",
      "_________________________________________________________________\n",
      "cnn_block_13 (CNNBlock)      (None, 28, 28, 64)        18752     \n",
      "_________________________________________________________________\n",
      "cnn_block_14 (CNNBlock)      (None, 28, 28, 128)       74368     \n",
      "_________________________________________________________________\n",
      "flatten_6 (Flatten)          (None, 100352)            0         \n",
      "_________________________________________________________________\n",
      "dense_6 (Dense)              (None, 10)                1003530   \n",
      "=================================================================\n",
      "Total params: 1,097,098\n",
      "Trainable params: 1,096,650\n",
      "Non-trainable params: 448\n",
      "_________________________________________________________________\n",
      "None\n",
      "157/157 - 0s - loss: 0.0373 - accuracy: 0.9888\n"
     ]
    },
    {
     "data": {
      "text/plain": [
       "[0.03729434311389923, 0.9887999892234802]"
      ]
     },
     "execution_count": 26,
     "metadata": {},
     "output_type": "execute_result"
    }
   ],
   "source": [
    "# Final model\n",
    "class ResNet_Like(keras.Model):\n",
    "    def __init__(self, num_classes=10):\n",
    "        super(ResNet_Like, self).__init__()\n",
    "        self.block1 = ResNet_Like([32, 32, 64])\n",
    "        self.block2 = ResNet_Like([128, 128, 256])\n",
    "        self.block3 = ResNet_Like([128, 256, 512])\n",
    "        self.pool = layers.GlobalAveragePooling2D()\n",
    "        self.classifier = layers.Dense(num_classes)\n",
    "\n",
    "    def call(self, input_tensor, training=False):\n",
    "        x = self.block1(input_tensor, training=training)\n",
    "        x = self.block2(x, training=training)\n",
    "        x = self.block3(x, training=training)\n",
    "        x = self.pool(x, training=training)\n",
    "        x = self.classifier(x)\n",
    "        return x\n",
    "\n",
    "    def model(self):\n",
    "        x = keras.Input(shape=(28, 28, 1))\n",
    "        return keras.Model(inputs=[x], outputs=self.call(x))\n",
    "\n",
    "\n",
    "base_input = model.layers[0].input\n",
    "base_output = model.layers[2].output\n",
    "output = layers.Dense(10)(layers.Flatten()(base_output))\n",
    "model = keras.Model(base_input, output)\n",
    "\n",
    "model.compile(\n",
    "    optimizer=keras.optimizers.Adam(),\n",
    "    loss=keras.losses.SparseCategoricalCrossentropy(from_logits=True),\n",
    "    metrics=[\"accuracy\"],\n",
    ")\n",
    "\n",
    "model.fit(x_train, y_train, batch_size=64, epochs=1, verbose=2)\n",
    "print(model.summary())\n",
    "model.evaluate(x_test, y_test, batch_size=64, verbose=2)\n"
   ]
  },
  {
   "cell_type": "code",
   "execution_count": null,
   "metadata": {},
   "outputs": [],
   "source": []
  },
  {
   "cell_type": "code",
   "execution_count": null,
   "metadata": {},
   "outputs": [],
   "source": []
  }
 ],
 "metadata": {
  "kernelspec": {
   "display_name": "Python 3.9.12 ('tf')",
   "language": "python",
   "name": "python3"
  },
  "language_info": {
   "codemirror_mode": {
    "name": "ipython",
    "version": 3
   },
   "file_extension": ".py",
   "mimetype": "text/x-python",
   "name": "python",
   "nbconvert_exporter": "python",
   "pygments_lexer": "ipython3",
   "version": "3.9.12"
  },
  "orig_nbformat": 4,
  "vscode": {
   "interpreter": {
    "hash": "93a850cdd8e1ced0015abffd1c74857b7727d52a3b5bd3cee8894c4cf53924e5"
   }
  }
 },
 "nbformat": 4,
 "nbformat_minor": 2
}
