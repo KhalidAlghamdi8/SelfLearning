{
 "cells": [
  {
   "cell_type": "code",
   "execution_count": 5,
   "metadata": {},
   "outputs": [],
   "source": [
    "import tensorflow as tf\n",
    "from tensorflow import keras\n",
    "from tensorflow.keras import layers\n",
    "from tensorflow.keras.datasets import mnist\n",
    "\n",
    "physical_devices = tf.config.list_physical_devices('GPU') \n",
    "tf.config.experimental.set_memory_growth(physical_devices[0], True)"
   ]
  },
  {
   "cell_type": "code",
   "execution_count": 6,
   "metadata": {},
   "outputs": [
    {
     "name": "stdout",
     "output_type": "stream",
     "text": [
      "(60000, 28, 28)\n",
      "(10000, 28, 28)\n"
     ]
    }
   ],
   "source": [
    "\n",
    "(x_train, y_train), (x_test, y_test) = mnist.load_data()\n",
    "x_train = x_train.astype(\"float32\") / 255.0\n",
    "x_test = x_test.astype(\"float32\") / 255.0\n",
    "print(x_train.shape)\n",
    "print(x_test.shape)"
   ]
  },
  {
   "cell_type": "code",
   "execution_count": 9,
   "metadata": {},
   "outputs": [
    {
     "name": "stdout",
     "output_type": "stream",
     "text": [
      "Epoch 1/10\n",
      "938/938 - 58s - loss: 0.3212 - accuracy: 0.9021\n",
      "Epoch 2/10\n",
      "938/938 - 55s - loss: 0.1502 - accuracy: 0.9579\n",
      "Epoch 3/10\n",
      "938/938 - 55s - loss: 0.1136 - accuracy: 0.9680\n",
      "Epoch 4/10\n",
      "938/938 - 57s - loss: 0.1056 - accuracy: 0.9714\n",
      "Epoch 5/10\n",
      "938/938 - 57s - loss: 0.0932 - accuracy: 0.9749\n",
      "Epoch 6/10\n",
      "938/938 - 57s - loss: 0.0937 - accuracy: 0.9751\n",
      "Epoch 7/10\n",
      "938/938 - 55s - loss: 0.0752 - accuracy: 0.9788\n",
      "Epoch 8/10\n",
      "938/938 - 56s - loss: 0.0730 - accuracy: 0.9800\n",
      "Epoch 9/10\n",
      "938/938 - 57s - loss: 0.0706 - accuracy: 0.9804\n",
      "Epoch 10/10\n",
      "938/938 - 56s - loss: 0.0638 - accuracy: 0.9825\n",
      "157/157 - 2s - loss: 0.0634 - accuracy: 0.9841\n"
     ]
    },
    {
     "data": {
      "text/plain": [
       "[0.06337974965572357, 0.9840999841690063]"
      ]
     },
     "execution_count": 9,
     "metadata": {},
     "output_type": "execute_result"
    }
   ],
   "source": [
    "#RNN\n",
    "model = keras.Sequential()\n",
    "model.add(keras.Input(shape=(None, 28)))\n",
    "model.add(layers.SimpleRNN(512, return_sequences=True, activation=\"relu\"))\n",
    "model.add(layers.SimpleRNN(512, activation=\"relu\"))\n",
    "model.add(layers.Dense(10))\n",
    "\n",
    "# print(model.summary())\n",
    "\n",
    "model.compile(\n",
    "    loss=keras.losses.SparseCategoricalCrossentropy(from_logits=True),\n",
    "    optimizer=keras.optimizers.Adam(learning_rate=0.001),\n",
    "    metrics=[\"accuracy\"],\n",
    ")\n",
    "\n",
    "model.fit(x_train, y_train, batch_size=64, epochs=10, verbose=2)\n",
    "model.evaluate(x_test, y_test, batch_size=64, verbose=2)"
   ]
  },
  {
   "cell_type": "code",
   "execution_count": 10,
   "metadata": {},
   "outputs": [
    {
     "name": "stdout",
     "output_type": "stream",
     "text": [
      "Epoch 1/10\n",
      "938/938 - 13s - loss: 0.2669 - accuracy: 0.9124\n",
      "Epoch 2/10\n",
      "938/938 - 9s - loss: 0.0648 - accuracy: 0.9799\n",
      "Epoch 3/10\n",
      "938/938 - 9s - loss: 0.0445 - accuracy: 0.9866\n",
      "Epoch 4/10\n",
      "938/938 - 9s - loss: 0.0351 - accuracy: 0.9890\n",
      "Epoch 5/10\n",
      "938/938 - 8s - loss: 0.0298 - accuracy: 0.9908\n",
      "Epoch 6/10\n",
      "938/938 - 9s - loss: 0.0243 - accuracy: 0.9923\n",
      "Epoch 7/10\n",
      "938/938 - 9s - loss: 0.0213 - accuracy: 0.9929\n",
      "Epoch 8/10\n",
      "938/938 - 9s - loss: 0.0168 - accuracy: 0.9946\n",
      "Epoch 9/10\n",
      "938/938 - 8s - loss: 0.0180 - accuracy: 0.9941\n",
      "Epoch 10/10\n",
      "938/938 - 8s - loss: 0.0149 - accuracy: 0.9954\n",
      "157/157 - 1s - loss: 0.0378 - accuracy: 0.9911\n"
     ]
    },
    {
     "data": {
      "text/plain": [
       "[0.03780992329120636, 0.991100013256073]"
      ]
     },
     "execution_count": 10,
     "metadata": {},
     "output_type": "execute_result"
    }
   ],
   "source": [
    "# GRU\n",
    "model = keras.Sequential()\n",
    "model.add(keras.Input(shape=(None, 28)))\n",
    "model.add(layers.GRU(256, return_sequences=True, activation=\"tanh\"))\n",
    "model.add(layers.GRU(265, activation=\"tanh\"))\n",
    "model.add(layers.Dense(10))\n",
    "\n",
    "# print(model.summary())\n",
    "\n",
    "model.compile(\n",
    "    loss=keras.losses.SparseCategoricalCrossentropy(from_logits=True),\n",
    "    optimizer=keras.optimizers.Adam(learning_rate=0.001),\n",
    "    metrics=[\"accuracy\"],\n",
    ")\n",
    "\n",
    "model.fit(x_train, y_train, batch_size=64, epochs=10, verbose=2)\n",
    "model.evaluate(x_test, y_test, batch_size=64, verbose=2)"
   ]
  },
  {
   "cell_type": "code",
   "execution_count": 11,
   "metadata": {},
   "outputs": [
    {
     "name": "stdout",
     "output_type": "stream",
     "text": [
      "Epoch 1/10\n",
      "938/938 - 12s - loss: 0.3066 - accuracy: 0.8986\n",
      "Epoch 2/10\n",
      "938/938 - 9s - loss: 0.0874 - accuracy: 0.9735\n",
      "Epoch 3/10\n",
      "938/938 - 9s - loss: 0.0580 - accuracy: 0.9824\n",
      "Epoch 4/10\n",
      "938/938 - 9s - loss: 0.0447 - accuracy: 0.9859\n",
      "Epoch 5/10\n",
      "938/938 - 9s - loss: 0.0366 - accuracy: 0.9889\n",
      "Epoch 6/10\n",
      "938/938 - 9s - loss: 0.0329 - accuracy: 0.9899\n",
      "Epoch 7/10\n",
      "938/938 - 9s - loss: 0.0264 - accuracy: 0.9918\n",
      "Epoch 8/10\n",
      "938/938 - 9s - loss: 0.0236 - accuracy: 0.9927\n",
      "Epoch 9/10\n",
      "938/938 - 9s - loss: 0.0216 - accuracy: 0.9930\n",
      "Epoch 10/10\n",
      "938/938 - 9s - loss: 0.0166 - accuracy: 0.9947\n",
      "157/157 - 1s - loss: 0.0351 - accuracy: 0.9905\n"
     ]
    },
    {
     "data": {
      "text/plain": [
       "[0.035092152655124664, 0.9904999732971191]"
      ]
     },
     "execution_count": 11,
     "metadata": {},
     "output_type": "execute_result"
    }
   ],
   "source": [
    "# LSTM\n",
    "model = keras.Sequential()\n",
    "model.add(keras.Input(shape=(None, 28)))\n",
    "model.add(layers.LSTM(256, return_sequences=True, activation=\"tanh\"))\n",
    "model.add(layers.LSTM(256, activation=\"tanh\"))\n",
    "model.add(layers.Dense(10))\n",
    "\n",
    "# print(model.summary())\n",
    "\n",
    "model.compile(\n",
    "    loss=keras.losses.SparseCategoricalCrossentropy(from_logits=True),\n",
    "    optimizer=keras.optimizers.Adam(learning_rate=0.001),\n",
    "    metrics=[\"accuracy\"],\n",
    ")\n",
    "\n",
    "model.fit(x_train, y_train, batch_size=64, epochs=10, verbose=2)\n",
    "model.evaluate(x_test, y_test, batch_size=64, verbose=2)"
   ]
  },
  {
   "cell_type": "code",
   "execution_count": 12,
   "metadata": {},
   "outputs": [
    {
     "name": "stdout",
     "output_type": "stream",
     "text": [
      "Epoch 1/10\n",
      "938/938 - 22s - loss: 0.2594 - accuracy: 0.9145\n",
      "Epoch 2/10\n",
      "938/938 - 17s - loss: 0.0754 - accuracy: 0.9772\n",
      "Epoch 3/10\n",
      "938/938 - 17s - loss: 0.0506 - accuracy: 0.9843\n",
      "Epoch 4/10\n",
      "938/938 - 17s - loss: 0.0398 - accuracy: 0.9879\n",
      "Epoch 5/10\n",
      "938/938 - 17s - loss: 0.0341 - accuracy: 0.9892\n",
      "Epoch 6/10\n",
      "938/938 - 17s - loss: 0.0276 - accuracy: 0.9912\n",
      "Epoch 7/10\n",
      "938/938 - 17s - loss: 0.0231 - accuracy: 0.9923\n",
      "Epoch 8/10\n",
      "938/938 - 18s - loss: 0.0209 - accuracy: 0.9934\n",
      "Epoch 9/10\n",
      "938/938 - 17s - loss: 0.0171 - accuracy: 0.9944\n",
      "Epoch 10/10\n",
      "938/938 - 17s - loss: 0.0156 - accuracy: 0.9952\n",
      "157/157 - 2s - loss: 0.0333 - accuracy: 0.9910\n"
     ]
    },
    {
     "data": {
      "text/plain": [
       "[0.03326425328850746, 0.9909999966621399]"
      ]
     },
     "execution_count": 12,
     "metadata": {},
     "output_type": "execute_result"
    }
   ],
   "source": [
    "# Bidirectional\n",
    "model = keras.Sequential()\n",
    "model.add(keras.Input(shape=(None, 28)))\n",
    "model.add(layers.Bidirectional( layers.LSTM(256, return_sequences=True, activation=\"tanh\")))\n",
    "model.add(layers.Bidirectional(layers.LSTM(512, activation=\"tanh\")))\n",
    "model.add(layers.Dense(10))\n",
    "\n",
    "# print(model.summary())\n",
    "\n",
    "model.compile(\n",
    "    loss=keras.losses.SparseCategoricalCrossentropy(from_logits=True),\n",
    "    optimizer=keras.optimizers.Adam(learning_rate=0.001),\n",
    "    metrics=[\"accuracy\"],\n",
    ")\n",
    "\n",
    "model.fit(x_train, y_train, batch_size=64, epochs=10, verbose=2)\n",
    "model.evaluate(x_test, y_test, batch_size=64, verbose=2)"
   ]
  },
  {
   "cell_type": "code",
   "execution_count": null,
   "metadata": {},
   "outputs": [],
   "source": []
  }
 ],
 "metadata": {
  "kernelspec": {
   "display_name": "Python 3.9.12 ('tf')",
   "language": "python",
   "name": "python3"
  },
  "language_info": {
   "codemirror_mode": {
    "name": "ipython",
    "version": 3
   },
   "file_extension": ".py",
   "mimetype": "text/x-python",
   "name": "python",
   "nbconvert_exporter": "python",
   "pygments_lexer": "ipython3",
   "version": "3.9.12"
  },
  "orig_nbformat": 4,
  "vscode": {
   "interpreter": {
    "hash": "93a850cdd8e1ced0015abffd1c74857b7727d52a3b5bd3cee8894c4cf53924e5"
   }
  }
 },
 "nbformat": 4,
 "nbformat_minor": 2
}
